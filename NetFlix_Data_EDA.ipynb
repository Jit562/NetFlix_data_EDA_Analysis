{
  "nbformat": 4,
  "nbformat_minor": 0,
  "metadata": {
    "colab": {
      "provenance": [],
      "mount_file_id": "1qp0_O0AzpxPZAP39BA_vdzt5cOeI02eg",
      "authorship_tag": "ABX9TyPmc4iFW4HeunTS9ZIpoulF",
      "include_colab_link": true
    },
    "kernelspec": {
      "name": "python3",
      "display_name": "Python 3"
    },
    "language_info": {
      "name": "python"
    }
  },
  "cells": [
    {
      "cell_type": "markdown",
      "metadata": {
        "id": "view-in-github",
        "colab_type": "text"
      },
      "source": [
        "<a href=\"https://colab.research.google.com/github/Jit562/NetFlix_data_EDA_Analysis/blob/main/NetFlix_Data_EDA.ipynb\" target=\"_parent\"><img src=\"https://colab.research.google.com/assets/colab-badge.svg\" alt=\"Open In Colab\"/></a>"
      ]
    },
    {
      "cell_type": "markdown",
      "source": [
        "### Project Name:- Netflix_Eda_Project\n",
        "\n",
        "* Participet: Indivisual"
      ],
      "metadata": {
        "id": "0QD1-2z020Q_"
      }
    },
    {
      "cell_type": "markdown",
      "source": [
        "### Description"
      ],
      "metadata": {
        "id": "3sphU5RJ3bJq"
      }
    },
    {
      "cell_type": "markdown",
      "source": [
        "### Why EDA?.\n",
        "\n",
        "- Model building\n",
        "- Analysis and reporting\n",
        "- Validate assumptions\n",
        "- Handling missing values\n",
        "- feature engineering\n",
        "- detecting outliers"
      ],
      "metadata": {
        "id": "A0d1OqVm3yo4"
      }
    },
    {
      "cell_type": "markdown",
      "source": [
        "### Import Library"
      ],
      "metadata": {
        "id": "IIvXRjqT3PCm"
      }
    },
    {
      "cell_type": "code",
      "execution_count": null,
      "metadata": {
        "id": "aId_juG2r3Ag"
      },
      "outputs": [],
      "source": [
        "import pandas as pd\n",
        "import numpy as np\n",
        "import matplotlib.pyplot as plt\n",
        "import seaborn as sns"
      ]
    },
    {
      "cell_type": "markdown",
      "source": [
        "### Load data set"
      ],
      "metadata": {
        "id": "zgqgMiz9ted4"
      }
    },
    {
      "cell_type": "code",
      "source": [
        "df = pd.read_csv(\"/content/drive/MyDrive/Dataset/netflix.csv\",encoding='latin-1')"
      ],
      "metadata": {
        "id": "Vb32ovUmtYqa"
      },
      "execution_count": null,
      "outputs": []
    },
    {
      "cell_type": "code",
      "source": [
        "df.sample(5)"
      ],
      "metadata": {
        "colab": {
          "base_uri": "https://localhost:8080/",
          "height": 379
        },
        "id": "QJ5N9DsytxD3",
        "outputId": "9442ee6d-2fd0-4b2e-d0ef-e94e09220d12"
      },
      "execution_count": 31,
      "outputs": [
        {
          "output_type": "execute_result",
          "data": {
            "text/plain": [
              "     show_id     type                                    title  \\\n",
              "4817   s4818    Movie                         To Each, Her Own   \n",
              "7973   s7974    Movie  Secrets of Her Majesty's Secret Service   \n",
              "960     s961  TV Show                             The Innocent   \n",
              "3268   s3269    Movie                             House Arrest   \n",
              "1387   s1388    Movie                      The Next Three Days   \n",
              "\n",
              "                         director  \\\n",
              "4817                 Myriam Aziza   \n",
              "7973               Kasia Uscinska   \n",
              "960                   Oriol Paulo   \n",
              "3268  Shashanka Ghosh, Samit Basu   \n",
              "1387                  Paul Haggis   \n",
              "\n",
              "                                                   cast  \\\n",
              "4817  Sarah Stern, Jean-Christophe Folly, Julia Piat...   \n",
              "7973                                        Samuel West   \n",
              "960   Mario Casas, Alexandra JimÃ©nez, Aura Garrido,...   \n",
              "3268  Ali Fazal, Shriya Pilgaonkar, Jim Sarbh, Barkh...   \n",
              "1387  Russell Crowe, Elizabeth Banks, Brian Dennehy,...   \n",
              "\n",
              "                    country         date_added  release_year rating  duration  \\\n",
              "4817                 France      June 24, 2018          2018  TV-MA    95 min   \n",
              "7973         United Kingdom  February 22, 2017          2014  TV-PG    55 min   \n",
              "960                     NaN     April 30, 2021          2021  TV-MA  1 Season   \n",
              "3268                  India  November 15, 2019          2019  TV-14   105 min   \n",
              "1387  United States, France   January 22, 2021          2010  PG-13   133 min   \n",
              "\n",
              "                                              listed_in  \\\n",
              "4817       Comedies, International Movies, LGBTQ Movies   \n",
              "7973                Documentaries, International Movies   \n",
              "960   Crime TV Shows, International TV Shows, Spanis...   \n",
              "3268  Comedies, Independent Movies, International Mo...   \n",
              "1387                                  Dramas, Thrillers   \n",
              "\n",
              "                                            description  \n",
              "4817  Just as Simone works up the courage to tell he...  \n",
              "7973  This documentary spotlights more than 100 year...  \n",
              "960   An accidental killing leads a man down a dark ...  \n",
              "3268  A world-weary manâs self-imposed home confin...  \n",
              "1387  When his wife becomes a murder suspect and is ...  "
            ],
            "text/html": [
              "\n",
              "  <div id=\"df-4447ec86-629d-431c-870e-85522a2b1edd\" class=\"colab-df-container\">\n",
              "    <div>\n",
              "<style scoped>\n",
              "    .dataframe tbody tr th:only-of-type {\n",
              "        vertical-align: middle;\n",
              "    }\n",
              "\n",
              "    .dataframe tbody tr th {\n",
              "        vertical-align: top;\n",
              "    }\n",
              "\n",
              "    .dataframe thead th {\n",
              "        text-align: right;\n",
              "    }\n",
              "</style>\n",
              "<table border=\"1\" class=\"dataframe\">\n",
              "  <thead>\n",
              "    <tr style=\"text-align: right;\">\n",
              "      <th></th>\n",
              "      <th>show_id</th>\n",
              "      <th>type</th>\n",
              "      <th>title</th>\n",
              "      <th>director</th>\n",
              "      <th>cast</th>\n",
              "      <th>country</th>\n",
              "      <th>date_added</th>\n",
              "      <th>release_year</th>\n",
              "      <th>rating</th>\n",
              "      <th>duration</th>\n",
              "      <th>listed_in</th>\n",
              "      <th>description</th>\n",
              "    </tr>\n",
              "  </thead>\n",
              "  <tbody>\n",
              "    <tr>\n",
              "      <th>4817</th>\n",
              "      <td>s4818</td>\n",
              "      <td>Movie</td>\n",
              "      <td>To Each, Her Own</td>\n",
              "      <td>Myriam Aziza</td>\n",
              "      <td>Sarah Stern, Jean-Christophe Folly, Julia Piat...</td>\n",
              "      <td>France</td>\n",
              "      <td>June 24, 2018</td>\n",
              "      <td>2018</td>\n",
              "      <td>TV-MA</td>\n",
              "      <td>95 min</td>\n",
              "      <td>Comedies, International Movies, LGBTQ Movies</td>\n",
              "      <td>Just as Simone works up the courage to tell he...</td>\n",
              "    </tr>\n",
              "    <tr>\n",
              "      <th>7973</th>\n",
              "      <td>s7974</td>\n",
              "      <td>Movie</td>\n",
              "      <td>Secrets of Her Majesty's Secret Service</td>\n",
              "      <td>Kasia Uscinska</td>\n",
              "      <td>Samuel West</td>\n",
              "      <td>United Kingdom</td>\n",
              "      <td>February 22, 2017</td>\n",
              "      <td>2014</td>\n",
              "      <td>TV-PG</td>\n",
              "      <td>55 min</td>\n",
              "      <td>Documentaries, International Movies</td>\n",
              "      <td>This documentary spotlights more than 100 year...</td>\n",
              "    </tr>\n",
              "    <tr>\n",
              "      <th>960</th>\n",
              "      <td>s961</td>\n",
              "      <td>TV Show</td>\n",
              "      <td>The Innocent</td>\n",
              "      <td>Oriol Paulo</td>\n",
              "      <td>Mario Casas, Alexandra JimÃ©nez, Aura Garrido,...</td>\n",
              "      <td>NaN</td>\n",
              "      <td>April 30, 2021</td>\n",
              "      <td>2021</td>\n",
              "      <td>TV-MA</td>\n",
              "      <td>1 Season</td>\n",
              "      <td>Crime TV Shows, International TV Shows, Spanis...</td>\n",
              "      <td>An accidental killing leads a man down a dark ...</td>\n",
              "    </tr>\n",
              "    <tr>\n",
              "      <th>3268</th>\n",
              "      <td>s3269</td>\n",
              "      <td>Movie</td>\n",
              "      <td>House Arrest</td>\n",
              "      <td>Shashanka Ghosh, Samit Basu</td>\n",
              "      <td>Ali Fazal, Shriya Pilgaonkar, Jim Sarbh, Barkh...</td>\n",
              "      <td>India</td>\n",
              "      <td>November 15, 2019</td>\n",
              "      <td>2019</td>\n",
              "      <td>TV-14</td>\n",
              "      <td>105 min</td>\n",
              "      <td>Comedies, Independent Movies, International Mo...</td>\n",
              "      <td>A world-weary manâs self-imposed home confin...</td>\n",
              "    </tr>\n",
              "    <tr>\n",
              "      <th>1387</th>\n",
              "      <td>s1388</td>\n",
              "      <td>Movie</td>\n",
              "      <td>The Next Three Days</td>\n",
              "      <td>Paul Haggis</td>\n",
              "      <td>Russell Crowe, Elizabeth Banks, Brian Dennehy,...</td>\n",
              "      <td>United States, France</td>\n",
              "      <td>January 22, 2021</td>\n",
              "      <td>2010</td>\n",
              "      <td>PG-13</td>\n",
              "      <td>133 min</td>\n",
              "      <td>Dramas, Thrillers</td>\n",
              "      <td>When his wife becomes a murder suspect and is ...</td>\n",
              "    </tr>\n",
              "  </tbody>\n",
              "</table>\n",
              "</div>\n",
              "    <div class=\"colab-df-buttons\">\n",
              "\n",
              "  <div class=\"colab-df-container\">\n",
              "    <button class=\"colab-df-convert\" onclick=\"convertToInteractive('df-4447ec86-629d-431c-870e-85522a2b1edd')\"\n",
              "            title=\"Convert this dataframe to an interactive table.\"\n",
              "            style=\"display:none;\">\n",
              "\n",
              "  <svg xmlns=\"http://www.w3.org/2000/svg\" height=\"24px\" viewBox=\"0 -960 960 960\">\n",
              "    <path d=\"M120-120v-720h720v720H120Zm60-500h600v-160H180v160Zm220 220h160v-160H400v160Zm0 220h160v-160H400v160ZM180-400h160v-160H180v160Zm440 0h160v-160H620v160ZM180-180h160v-160H180v160Zm440 0h160v-160H620v160Z\"/>\n",
              "  </svg>\n",
              "    </button>\n",
              "\n",
              "  <style>\n",
              "    .colab-df-container {\n",
              "      display:flex;\n",
              "      gap: 12px;\n",
              "    }\n",
              "\n",
              "    .colab-df-convert {\n",
              "      background-color: #E8F0FE;\n",
              "      border: none;\n",
              "      border-radius: 50%;\n",
              "      cursor: pointer;\n",
              "      display: none;\n",
              "      fill: #1967D2;\n",
              "      height: 32px;\n",
              "      padding: 0 0 0 0;\n",
              "      width: 32px;\n",
              "    }\n",
              "\n",
              "    .colab-df-convert:hover {\n",
              "      background-color: #E2EBFA;\n",
              "      box-shadow: 0px 1px 2px rgba(60, 64, 67, 0.3), 0px 1px 3px 1px rgba(60, 64, 67, 0.15);\n",
              "      fill: #174EA6;\n",
              "    }\n",
              "\n",
              "    .colab-df-buttons div {\n",
              "      margin-bottom: 4px;\n",
              "    }\n",
              "\n",
              "    [theme=dark] .colab-df-convert {\n",
              "      background-color: #3B4455;\n",
              "      fill: #D2E3FC;\n",
              "    }\n",
              "\n",
              "    [theme=dark] .colab-df-convert:hover {\n",
              "      background-color: #434B5C;\n",
              "      box-shadow: 0px 1px 3px 1px rgba(0, 0, 0, 0.15);\n",
              "      filter: drop-shadow(0px 1px 2px rgba(0, 0, 0, 0.3));\n",
              "      fill: #FFFFFF;\n",
              "    }\n",
              "  </style>\n",
              "\n",
              "    <script>\n",
              "      const buttonEl =\n",
              "        document.querySelector('#df-4447ec86-629d-431c-870e-85522a2b1edd button.colab-df-convert');\n",
              "      buttonEl.style.display =\n",
              "        google.colab.kernel.accessAllowed ? 'block' : 'none';\n",
              "\n",
              "      async function convertToInteractive(key) {\n",
              "        const element = document.querySelector('#df-4447ec86-629d-431c-870e-85522a2b1edd');\n",
              "        const dataTable =\n",
              "          await google.colab.kernel.invokeFunction('convertToInteractive',\n",
              "                                                    [key], {});\n",
              "        if (!dataTable) return;\n",
              "\n",
              "        const docLinkHtml = 'Like what you see? Visit the ' +\n",
              "          '<a target=\"_blank\" href=https://colab.research.google.com/notebooks/data_table.ipynb>data table notebook</a>'\n",
              "          + ' to learn more about interactive tables.';\n",
              "        element.innerHTML = '';\n",
              "        dataTable['output_type'] = 'display_data';\n",
              "        await google.colab.output.renderOutput(dataTable, element);\n",
              "        const docLink = document.createElement('div');\n",
              "        docLink.innerHTML = docLinkHtml;\n",
              "        element.appendChild(docLink);\n",
              "      }\n",
              "    </script>\n",
              "  </div>\n",
              "\n",
              "\n",
              "<div id=\"df-b455471e-192f-4599-a1b0-f0cf17c44884\">\n",
              "  <button class=\"colab-df-quickchart\" onclick=\"quickchart('df-b455471e-192f-4599-a1b0-f0cf17c44884')\"\n",
              "            title=\"Suggest charts\"\n",
              "            style=\"display:none;\">\n",
              "\n",
              "<svg xmlns=\"http://www.w3.org/2000/svg\" height=\"24px\"viewBox=\"0 0 24 24\"\n",
              "     width=\"24px\">\n",
              "    <g>\n",
              "        <path d=\"M19 3H5c-1.1 0-2 .9-2 2v14c0 1.1.9 2 2 2h14c1.1 0 2-.9 2-2V5c0-1.1-.9-2-2-2zM9 17H7v-7h2v7zm4 0h-2V7h2v10zm4 0h-2v-4h2v4z\"/>\n",
              "    </g>\n",
              "</svg>\n",
              "  </button>\n",
              "\n",
              "<style>\n",
              "  .colab-df-quickchart {\n",
              "      --bg-color: #E8F0FE;\n",
              "      --fill-color: #1967D2;\n",
              "      --hover-bg-color: #E2EBFA;\n",
              "      --hover-fill-color: #174EA6;\n",
              "      --disabled-fill-color: #AAA;\n",
              "      --disabled-bg-color: #DDD;\n",
              "  }\n",
              "\n",
              "  [theme=dark] .colab-df-quickchart {\n",
              "      --bg-color: #3B4455;\n",
              "      --fill-color: #D2E3FC;\n",
              "      --hover-bg-color: #434B5C;\n",
              "      --hover-fill-color: #FFFFFF;\n",
              "      --disabled-bg-color: #3B4455;\n",
              "      --disabled-fill-color: #666;\n",
              "  }\n",
              "\n",
              "  .colab-df-quickchart {\n",
              "    background-color: var(--bg-color);\n",
              "    border: none;\n",
              "    border-radius: 50%;\n",
              "    cursor: pointer;\n",
              "    display: none;\n",
              "    fill: var(--fill-color);\n",
              "    height: 32px;\n",
              "    padding: 0;\n",
              "    width: 32px;\n",
              "  }\n",
              "\n",
              "  .colab-df-quickchart:hover {\n",
              "    background-color: var(--hover-bg-color);\n",
              "    box-shadow: 0 1px 2px rgba(60, 64, 67, 0.3), 0 1px 3px 1px rgba(60, 64, 67, 0.15);\n",
              "    fill: var(--button-hover-fill-color);\n",
              "  }\n",
              "\n",
              "  .colab-df-quickchart-complete:disabled,\n",
              "  .colab-df-quickchart-complete:disabled:hover {\n",
              "    background-color: var(--disabled-bg-color);\n",
              "    fill: var(--disabled-fill-color);\n",
              "    box-shadow: none;\n",
              "  }\n",
              "\n",
              "  .colab-df-spinner {\n",
              "    border: 2px solid var(--fill-color);\n",
              "    border-color: transparent;\n",
              "    border-bottom-color: var(--fill-color);\n",
              "    animation:\n",
              "      spin 1s steps(1) infinite;\n",
              "  }\n",
              "\n",
              "  @keyframes spin {\n",
              "    0% {\n",
              "      border-color: transparent;\n",
              "      border-bottom-color: var(--fill-color);\n",
              "      border-left-color: var(--fill-color);\n",
              "    }\n",
              "    20% {\n",
              "      border-color: transparent;\n",
              "      border-left-color: var(--fill-color);\n",
              "      border-top-color: var(--fill-color);\n",
              "    }\n",
              "    30% {\n",
              "      border-color: transparent;\n",
              "      border-left-color: var(--fill-color);\n",
              "      border-top-color: var(--fill-color);\n",
              "      border-right-color: var(--fill-color);\n",
              "    }\n",
              "    40% {\n",
              "      border-color: transparent;\n",
              "      border-right-color: var(--fill-color);\n",
              "      border-top-color: var(--fill-color);\n",
              "    }\n",
              "    60% {\n",
              "      border-color: transparent;\n",
              "      border-right-color: var(--fill-color);\n",
              "    }\n",
              "    80% {\n",
              "      border-color: transparent;\n",
              "      border-right-color: var(--fill-color);\n",
              "      border-bottom-color: var(--fill-color);\n",
              "    }\n",
              "    90% {\n",
              "      border-color: transparent;\n",
              "      border-bottom-color: var(--fill-color);\n",
              "    }\n",
              "  }\n",
              "</style>\n",
              "\n",
              "  <script>\n",
              "    async function quickchart(key) {\n",
              "      const quickchartButtonEl =\n",
              "        document.querySelector('#' + key + ' button');\n",
              "      quickchartButtonEl.disabled = true;  // To prevent multiple clicks.\n",
              "      quickchartButtonEl.classList.add('colab-df-spinner');\n",
              "      try {\n",
              "        const charts = await google.colab.kernel.invokeFunction(\n",
              "            'suggestCharts', [key], {});\n",
              "      } catch (error) {\n",
              "        console.error('Error during call to suggestCharts:', error);\n",
              "      }\n",
              "      quickchartButtonEl.classList.remove('colab-df-spinner');\n",
              "      quickchartButtonEl.classList.add('colab-df-quickchart-complete');\n",
              "    }\n",
              "    (() => {\n",
              "      let quickchartButtonEl =\n",
              "        document.querySelector('#df-b455471e-192f-4599-a1b0-f0cf17c44884 button');\n",
              "      quickchartButtonEl.style.display =\n",
              "        google.colab.kernel.accessAllowed ? 'block' : 'none';\n",
              "    })();\n",
              "  </script>\n",
              "</div>\n",
              "\n",
              "    </div>\n",
              "  </div>\n"
            ],
            "application/vnd.google.colaboratory.intrinsic+json": {
              "type": "dataframe",
              "repr_error": "0"
            }
          },
          "metadata": {},
          "execution_count": 31
        }
      ]
    },
    {
      "cell_type": "markdown",
      "source": [
        "### Column Types\n",
        "\n",
        "- **Numerical** - show_id, release_year,\n",
        "- **Categorical** - type, title, director, cast, country, rating, listed_in, description\n",
        "- **Mixed** - date_added, duration"
      ],
      "metadata": {
        "id": "xeRnV4Bi4b2f"
      }
    },
    {
      "cell_type": "markdown",
      "source": [
        "###  Univariate Analysis\n",
        "\n",
        "**Univariate analysis focuses on analyzing each feature in the dataset independently.**\n",
        "\n",
        "- **Distribution analysis**: The distribution of each feature is examined to identify its shape, central tendency, and dispersion.\n",
        "\n",
        "- **Identifying potential issues**: Univariate analysis helps in identifying potential problems with the data such as outliers, skewness, and missing values"
      ],
      "metadata": {
        "id": "qdMMLqNJ5fn4"
      }
    },
    {
      "cell_type": "markdown",
      "source": [
        "#### The shape of a data distribution refers to its overall pattern or form as it is represented on a graph. Some common shapes of data distributions include:\n",
        "\n",
        "- **Normal Distribution**: A symmetrical and bell-shaped distribution where the mean, median, and mode are equal and the majority of the data falls in the middle of the distribution with gradually decreasing frequencies towards the tails.\n",
        "\n",
        "- **Skewed Distribution**: A distribution that is not symmetrical, with one tail being longer than the other. It can be either positively skewed (right-skewed) or negatively skewed (left-skewed).\n",
        "\n",
        "- **Bimodal Distribution**: A distribution with two peaks or modes.\n",
        "\n",
        "- **Uniform Distribution**: A distribution where all values have an equal chance of occurring.\n",
        "\n",
        "The shape of the data distribution is important in identifying the presence of outliers, skewness, and the type of statistical tests and models that can be used for further analysis."
      ],
      "metadata": {
        "id": "6BvucrKr5z16"
      }
    },
    {
      "cell_type": "markdown",
      "source": [
        "#### **Dispersion** is a statistical term used to describe the spread or variability of a set of data. It measures how far the values in a data set are spread out from the central tendency (mean, median, or mode) of the data.\n",
        "\n",
        "There are several measures of dispersion, including:\n",
        "\n",
        "- **Range**: The difference between the largest and smallest values in a data set.\n",
        "\n",
        "- **Variance**: The average of the squared deviations of each value from the mean of the data set.\n",
        "\n",
        "- **Standard Deviation**: The square root of the variance. It provides a measure of the spread of the data that is in the same units as the original data.\n",
        "\n",
        "- **Interquartile range (IQR)**: The range between the first quartile (25th percentile) and the third quartile (75th percentile) of the data.\n",
        "\n",
        "Dispersion helps to describe the spread of the data, which can help to identify the presence of outliers and skewness in the data."
      ],
      "metadata": {
        "id": "g2j493yy52lZ"
      }
    },
    {
      "cell_type": "markdown",
      "source": [
        "### Steps of doing Univariate Analysis on Numerical columns\n",
        "\n",
        "- **Descriptive Statistics**: Compute basic summary statistics for the column, such as mean, median, mode, standard deviation, range, and quartiles. These statistics give a general understanding of the distribution of the data and can help identify skewness or outliers.\n",
        "\n",
        "- **Visualizations**: Create visualizations to explore the distribution of the data. Some common visualizations for numerical data include histograms, box plots, and density plots. These visualizations provide a visual representation of the distribution of the data and can help identify skewness an outliers.\n",
        "\n",
        "- **Identifying Outliers**: Identify and examine any outliers in the data. Outliers can be identified using visualizations. It is important to determine whether the outliers are due to measurement errors, data entry errors, or legitimate differences in the data, and to decide whether to include or exclude them from the analysis.\n",
        "\n",
        "- **Skewness**: Check for skewness in the data and consider transforming the data or using robust statistical methods that are less sensitive to skewness, if necessary.\n",
        "\n",
        "- **Conclusion**: Summarize the findings of the EDA and make decisions about how to proceed with further analysis."
      ],
      "metadata": {
        "id": "BQCtBsow58Kk"
      }
    },
    {
      "cell_type": "markdown",
      "source": [
        "### Type\n",
        "\n",
        "  **conclusions**\n",
        "\n",
        "  - No missing value\n",
        "  - Movie is 6132  \n",
        "  - TV Show is 2677\n",
        "  - Movie 69.6%\n",
        "  - Tv show 30.4%\n"
      ],
      "metadata": {
        "id": "h5GcrQNZ8aNg"
      }
    },
    {
      "cell_type": "code",
      "source": [
        "df['type'].value_counts()"
      ],
      "metadata": {
        "id": "ehHQeKkfu2y8",
        "colab": {
          "base_uri": "https://localhost:8080/"
        },
        "outputId": "c6581397-ad5e-416d-be7d-b0d8a9c6501c"
      },
      "execution_count": 37,
      "outputs": [
        {
          "output_type": "execute_result",
          "data": {
            "text/plain": [
              "type\n",
              "Movie      6132\n",
              "TV Show    2677\n",
              "Name: count, dtype: int64"
            ]
          },
          "metadata": {},
          "execution_count": 37
        }
      ]
    },
    {
      "cell_type": "code",
      "source": [
        "df['type'].isnull().sum()"
      ],
      "metadata": {
        "colab": {
          "base_uri": "https://localhost:8080/"
        },
        "id": "cLZm5uwJvCM2",
        "outputId": "1859e56b-cdc3-443c-c7f8-84f4de32f96a"
      },
      "execution_count": 46,
      "outputs": [
        {
          "output_type": "execute_result",
          "data": {
            "text/plain": [
              "0"
            ]
          },
          "metadata": {},
          "execution_count": 46
        }
      ]
    },
    {
      "cell_type": "code",
      "source": [
        "plt.rcParams['figure.figsize'] = (8,6) # chart size increase\n",
        "\n",
        "explode = (0.05, 0) # show the 3d chart\n",
        "\n",
        "colors = ['#E7B484','#B17886']  # colors difiend\n",
        "\n",
        "df['type'].value_counts().plot(kind='pie',autopct='%0.1f%%', shadow = True, explode=explode , subplots=True, colors = colors)\n",
        "\n",
        "#plt.axis('equal')\n",
        "_ = plt.legend()\n",
        "plt.show()"
      ],
      "metadata": {
        "colab": {
          "base_uri": "https://localhost:8080/",
          "height": 499
        },
        "id": "m8lV5hbZ9UhP",
        "outputId": "b2b011fb-6084-46e1-cd19-0d11616b0698"
      },
      "execution_count": 52,
      "outputs": [
        {
          "output_type": "display_data",
          "data": {
            "text/plain": [
              "<Figure size 800x600 with 1 Axes>"
            ],
            "image/png": "[encoded data removed]"
          },
          "metadata": {}
        }
      ]
    },
    {
      "cell_type": "code",
      "source": [],
      "metadata": {
        "id": "3eYrwoNQ9UMc"
      },
      "execution_count": null,
      "outputs": []
    },
    {
      "cell_type": "code",
      "source": [],
      "metadata": {
        "id": "BwdKEdSy9UD6"
      },
      "execution_count": null,
      "outputs": []
    },
    {
      "cell_type": "code",
      "source": [],
      "metadata": {
        "id": "iNSi-rvS9T6f"
      },
      "execution_count": null,
      "outputs": []
    },
    {
      "cell_type": "code",
      "source": [],
      "metadata": {
        "id": "DbM3idRo9TpR"
      },
      "execution_count": null,
      "outputs": []
    }
  ]
}